{
 "cells": [
  {
   "cell_type": "markdown",
   "id": "dd8ab9de",
   "metadata": {},
   "source": [
    "### IMporting Libraries"
   ]
  },
  {
   "cell_type": "code",
   "execution_count": 1,
   "id": "b5a029c1",
   "metadata": {},
   "outputs": [],
   "source": [
    "import numpy as np\n",
    "import pandas as pd\n",
    "from sklearn.preprocessing import MinMaxScaler, StandardScaler\n",
    "from sklearn.neighbors import KNeighborsClassifier, KNeighborsRegressor\n",
    "from sklearn.model_selection import train_test_split\n",
    "from sklearn.model_selection import GridSearchCV, RandomizedSearchCV\n",
    "from sklearn.metrics import confusion_matrix,classification_report,accuracy_score, roc_curve\n",
    "import matplotlib.pyplot as plt\n",
    "import seaborn as sns\n",
    "from sklearn.datasets import load_diabetes\n"
   ]
  },
  {
   "cell_type": "code",
   "execution_count": 2,
   "id": "c5553539",
   "metadata": {},
   "outputs": [],
   "source": [
    "# As its already scaled data so skipping it.\n",
    "#diabetes =  load_diabetes()\n",
    "#df = pd.DataFrame(diabetes.data, columns = diabetes.feature_names)\n",
    "#df\n"
   ]
  },
  {
   "cell_type": "markdown",
   "id": "727cb915",
   "metadata": {},
   "source": [
    "### Data Gathering"
   ]
  },
  {
   "cell_type": "code",
   "execution_count": 3,
   "id": "e752735e",
   "metadata": {},
   "outputs": [
    {
     "data": {
      "text/html": [
       "<div>\n",
       "<style scoped>\n",
       "    .dataframe tbody tr th:only-of-type {\n",
       "        vertical-align: middle;\n",
       "    }\n",
       "\n",
       "    .dataframe tbody tr th {\n",
       "        vertical-align: top;\n",
       "    }\n",
       "\n",
       "    .dataframe thead th {\n",
       "        text-align: right;\n",
       "    }\n",
       "</style>\n",
       "<table border=\"1\" class=\"dataframe\">\n",
       "  <thead>\n",
       "    <tr style=\"text-align: right;\">\n",
       "      <th></th>\n",
       "      <th>Glucose</th>\n",
       "      <th>BloodPressure</th>\n",
       "      <th>SkinThickness</th>\n",
       "      <th>Insulin</th>\n",
       "      <th>BMI</th>\n",
       "      <th>DiabetesPedigreeFunction</th>\n",
       "      <th>Age</th>\n",
       "      <th>Outcome</th>\n",
       "    </tr>\n",
       "  </thead>\n",
       "  <tbody>\n",
       "    <tr>\n",
       "      <th>0</th>\n",
       "      <td>148</td>\n",
       "      <td>50</td>\n",
       "      <td>35</td>\n",
       "      <td>0</td>\n",
       "      <td>33.6</td>\n",
       "      <td>0.627</td>\n",
       "      <td>50</td>\n",
       "      <td>1</td>\n",
       "    </tr>\n",
       "    <tr>\n",
       "      <th>1</th>\n",
       "      <td>85</td>\n",
       "      <td>66</td>\n",
       "      <td>29</td>\n",
       "      <td>0</td>\n",
       "      <td>26.6</td>\n",
       "      <td>0.351</td>\n",
       "      <td>31</td>\n",
       "      <td>0</td>\n",
       "    </tr>\n",
       "    <tr>\n",
       "      <th>2</th>\n",
       "      <td>183</td>\n",
       "      <td>64</td>\n",
       "      <td>0</td>\n",
       "      <td>0</td>\n",
       "      <td>23.3</td>\n",
       "      <td>0.672</td>\n",
       "      <td>52</td>\n",
       "      <td>1</td>\n",
       "    </tr>\n",
       "    <tr>\n",
       "      <th>3</th>\n",
       "      <td>150</td>\n",
       "      <td>66</td>\n",
       "      <td>23</td>\n",
       "      <td>94</td>\n",
       "      <td>28.1</td>\n",
       "      <td>0.167</td>\n",
       "      <td>21</td>\n",
       "      <td>0</td>\n",
       "    </tr>\n",
       "    <tr>\n",
       "      <th>4</th>\n",
       "      <td>150</td>\n",
       "      <td>40</td>\n",
       "      <td>35</td>\n",
       "      <td>168</td>\n",
       "      <td>43.1</td>\n",
       "      <td>2.288</td>\n",
       "      <td>33</td>\n",
       "      <td>1</td>\n",
       "    </tr>\n",
       "    <tr>\n",
       "      <th>...</th>\n",
       "      <td>...</td>\n",
       "      <td>...</td>\n",
       "      <td>...</td>\n",
       "      <td>...</td>\n",
       "      <td>...</td>\n",
       "      <td>...</td>\n",
       "      <td>...</td>\n",
       "      <td>...</td>\n",
       "    </tr>\n",
       "    <tr>\n",
       "      <th>763</th>\n",
       "      <td>101</td>\n",
       "      <td>76</td>\n",
       "      <td>48</td>\n",
       "      <td>180</td>\n",
       "      <td>32.9</td>\n",
       "      <td>0.171</td>\n",
       "      <td>63</td>\n",
       "      <td>0</td>\n",
       "    </tr>\n",
       "    <tr>\n",
       "      <th>764</th>\n",
       "      <td>122</td>\n",
       "      <td>70</td>\n",
       "      <td>27</td>\n",
       "      <td>0</td>\n",
       "      <td>36.8</td>\n",
       "      <td>0.340</td>\n",
       "      <td>27</td>\n",
       "      <td>0</td>\n",
       "    </tr>\n",
       "    <tr>\n",
       "      <th>765</th>\n",
       "      <td>121</td>\n",
       "      <td>72</td>\n",
       "      <td>23</td>\n",
       "      <td>112</td>\n",
       "      <td>26.2</td>\n",
       "      <td>0.245</td>\n",
       "      <td>30</td>\n",
       "      <td>0</td>\n",
       "    </tr>\n",
       "    <tr>\n",
       "      <th>766</th>\n",
       "      <td>126</td>\n",
       "      <td>60</td>\n",
       "      <td>0</td>\n",
       "      <td>0</td>\n",
       "      <td>30.1</td>\n",
       "      <td>0.349</td>\n",
       "      <td>47</td>\n",
       "      <td>1</td>\n",
       "    </tr>\n",
       "    <tr>\n",
       "      <th>767</th>\n",
       "      <td>93</td>\n",
       "      <td>70</td>\n",
       "      <td>31</td>\n",
       "      <td>0</td>\n",
       "      <td>30.4</td>\n",
       "      <td>0.315</td>\n",
       "      <td>23</td>\n",
       "      <td>0</td>\n",
       "    </tr>\n",
       "  </tbody>\n",
       "</table>\n",
       "<p>768 rows × 8 columns</p>\n",
       "</div>"
      ],
      "text/plain": [
       "     Glucose  BloodPressure  SkinThickness  Insulin   BMI  \\\n",
       "0        148             50             35        0  33.6   \n",
       "1         85             66             29        0  26.6   \n",
       "2        183             64              0        0  23.3   \n",
       "3        150             66             23       94  28.1   \n",
       "4        150             40             35      168  43.1   \n",
       "..       ...            ...            ...      ...   ...   \n",
       "763      101             76             48      180  32.9   \n",
       "764      122             70             27        0  36.8   \n",
       "765      121             72             23      112  26.2   \n",
       "766      126             60              0        0  30.1   \n",
       "767       93             70             31        0  30.4   \n",
       "\n",
       "     DiabetesPedigreeFunction  Age  Outcome  \n",
       "0                       0.627   50        1  \n",
       "1                       0.351   31        0  \n",
       "2                       0.672   52        1  \n",
       "3                       0.167   21        0  \n",
       "4                       2.288   33        1  \n",
       "..                        ...  ...      ...  \n",
       "763                     0.171   63        0  \n",
       "764                     0.340   27        0  \n",
       "765                     0.245   30        0  \n",
       "766                     0.349   47        1  \n",
       "767                     0.315   23        0  \n",
       "\n",
       "[768 rows x 8 columns]"
      ]
     },
     "execution_count": 3,
     "metadata": {},
     "output_type": "execute_result"
    }
   ],
   "source": [
    "df = pd.read_csv(\"diabetes.csv\")\n",
    "df"
   ]
  },
  {
   "cell_type": "markdown",
   "id": "a0c8f3f9",
   "metadata": {},
   "source": [
    "### EDA"
   ]
  },
  {
   "cell_type": "code",
   "execution_count": 4,
   "id": "f1d128b4",
   "metadata": {},
   "outputs": [
    {
     "name": "stdout",
     "output_type": "stream",
     "text": [
      "<class 'pandas.core.frame.DataFrame'>\n",
      "RangeIndex: 768 entries, 0 to 767\n",
      "Data columns (total 8 columns):\n",
      " #   Column                    Non-Null Count  Dtype  \n",
      "---  ------                    --------------  -----  \n",
      " 0   Glucose                   768 non-null    int64  \n",
      " 1   BloodPressure             768 non-null    int64  \n",
      " 2   SkinThickness             768 non-null    int64  \n",
      " 3   Insulin                   768 non-null    int64  \n",
      " 4   BMI                       768 non-null    float64\n",
      " 5   DiabetesPedigreeFunction  768 non-null    float64\n",
      " 6   Age                       768 non-null    int64  \n",
      " 7   Outcome                   768 non-null    int64  \n",
      "dtypes: float64(2), int64(6)\n",
      "memory usage: 48.1 KB\n"
     ]
    }
   ],
   "source": [
    "df.info()"
   ]
  },
  {
   "cell_type": "code",
   "execution_count": 5,
   "id": "e0d7223f",
   "metadata": {},
   "outputs": [
    {
     "data": {
      "text/html": [
       "<div>\n",
       "<style scoped>\n",
       "    .dataframe tbody tr th:only-of-type {\n",
       "        vertical-align: middle;\n",
       "    }\n",
       "\n",
       "    .dataframe tbody tr th {\n",
       "        vertical-align: top;\n",
       "    }\n",
       "\n",
       "    .dataframe thead th {\n",
       "        text-align: right;\n",
       "    }\n",
       "</style>\n",
       "<table border=\"1\" class=\"dataframe\">\n",
       "  <thead>\n",
       "    <tr style=\"text-align: right;\">\n",
       "      <th></th>\n",
       "      <th>Glucose</th>\n",
       "      <th>BloodPressure</th>\n",
       "      <th>SkinThickness</th>\n",
       "      <th>Insulin</th>\n",
       "      <th>BMI</th>\n",
       "      <th>DiabetesPedigreeFunction</th>\n",
       "      <th>Age</th>\n",
       "      <th>Outcome</th>\n",
       "    </tr>\n",
       "  </thead>\n",
       "  <tbody>\n",
       "    <tr>\n",
       "      <th>count</th>\n",
       "      <td>768.000000</td>\n",
       "      <td>768.000000</td>\n",
       "      <td>768.000000</td>\n",
       "      <td>768.000000</td>\n",
       "      <td>768.000000</td>\n",
       "      <td>768.000000</td>\n",
       "      <td>768.000000</td>\n",
       "      <td>768.000000</td>\n",
       "    </tr>\n",
       "    <tr>\n",
       "      <th>mean</th>\n",
       "      <td>121.117188</td>\n",
       "      <td>69.076823</td>\n",
       "      <td>20.536458</td>\n",
       "      <td>79.799479</td>\n",
       "      <td>31.992578</td>\n",
       "      <td>0.471876</td>\n",
       "      <td>33.243490</td>\n",
       "      <td>0.348958</td>\n",
       "    </tr>\n",
       "    <tr>\n",
       "      <th>std</th>\n",
       "      <td>31.805091</td>\n",
       "      <td>19.367794</td>\n",
       "      <td>15.952218</td>\n",
       "      <td>115.244002</td>\n",
       "      <td>7.884160</td>\n",
       "      <td>0.331329</td>\n",
       "      <td>11.758182</td>\n",
       "      <td>0.476951</td>\n",
       "    </tr>\n",
       "    <tr>\n",
       "      <th>min</th>\n",
       "      <td>0.000000</td>\n",
       "      <td>0.000000</td>\n",
       "      <td>0.000000</td>\n",
       "      <td>0.000000</td>\n",
       "      <td>0.000000</td>\n",
       "      <td>0.078000</td>\n",
       "      <td>21.000000</td>\n",
       "      <td>0.000000</td>\n",
       "    </tr>\n",
       "    <tr>\n",
       "      <th>25%</th>\n",
       "      <td>99.000000</td>\n",
       "      <td>62.000000</td>\n",
       "      <td>0.000000</td>\n",
       "      <td>0.000000</td>\n",
       "      <td>27.300000</td>\n",
       "      <td>0.243750</td>\n",
       "      <td>24.000000</td>\n",
       "      <td>0.000000</td>\n",
       "    </tr>\n",
       "    <tr>\n",
       "      <th>50%</th>\n",
       "      <td>117.000000</td>\n",
       "      <td>72.000000</td>\n",
       "      <td>23.000000</td>\n",
       "      <td>30.500000</td>\n",
       "      <td>32.000000</td>\n",
       "      <td>0.372500</td>\n",
       "      <td>29.000000</td>\n",
       "      <td>0.000000</td>\n",
       "    </tr>\n",
       "    <tr>\n",
       "      <th>75%</th>\n",
       "      <td>142.000000</td>\n",
       "      <td>80.000000</td>\n",
       "      <td>32.000000</td>\n",
       "      <td>127.250000</td>\n",
       "      <td>36.600000</td>\n",
       "      <td>0.626250</td>\n",
       "      <td>41.000000</td>\n",
       "      <td>1.000000</td>\n",
       "    </tr>\n",
       "    <tr>\n",
       "      <th>max</th>\n",
       "      <td>199.000000</td>\n",
       "      <td>122.000000</td>\n",
       "      <td>99.000000</td>\n",
       "      <td>846.000000</td>\n",
       "      <td>67.100000</td>\n",
       "      <td>2.420000</td>\n",
       "      <td>81.000000</td>\n",
       "      <td>1.000000</td>\n",
       "    </tr>\n",
       "  </tbody>\n",
       "</table>\n",
       "</div>"
      ],
      "text/plain": [
       "          Glucose  BloodPressure  SkinThickness     Insulin         BMI  \\\n",
       "count  768.000000     768.000000     768.000000  768.000000  768.000000   \n",
       "mean   121.117188      69.076823      20.536458   79.799479   31.992578   \n",
       "std     31.805091      19.367794      15.952218  115.244002    7.884160   \n",
       "min      0.000000       0.000000       0.000000    0.000000    0.000000   \n",
       "25%     99.000000      62.000000       0.000000    0.000000   27.300000   \n",
       "50%    117.000000      72.000000      23.000000   30.500000   32.000000   \n",
       "75%    142.000000      80.000000      32.000000  127.250000   36.600000   \n",
       "max    199.000000     122.000000      99.000000  846.000000   67.100000   \n",
       "\n",
       "       DiabetesPedigreeFunction         Age     Outcome  \n",
       "count                768.000000  768.000000  768.000000  \n",
       "mean                   0.471876   33.243490    0.348958  \n",
       "std                    0.331329   11.758182    0.476951  \n",
       "min                    0.078000   21.000000    0.000000  \n",
       "25%                    0.243750   24.000000    0.000000  \n",
       "50%                    0.372500   29.000000    0.000000  \n",
       "75%                    0.626250   41.000000    1.000000  \n",
       "max                    2.420000   81.000000    1.000000  "
      ]
     },
     "execution_count": 5,
     "metadata": {},
     "output_type": "execute_result"
    }
   ],
   "source": [
    "df.describe()"
   ]
  },
  {
   "cell_type": "code",
   "execution_count": 6,
   "id": "4020b4aa",
   "metadata": {},
   "outputs": [
    {
     "data": {
      "text/plain": [
       "Glucose                     0\n",
       "BloodPressure               0\n",
       "SkinThickness               0\n",
       "Insulin                     0\n",
       "BMI                         0\n",
       "DiabetesPedigreeFunction    0\n",
       "Age                         0\n",
       "Outcome                     0\n",
       "dtype: int64"
      ]
     },
     "execution_count": 6,
     "metadata": {},
     "output_type": "execute_result"
    }
   ],
   "source": [
    "df.isna().sum()"
   ]
  },
  {
   "cell_type": "code",
   "execution_count": 7,
   "id": "41b04375",
   "metadata": {},
   "outputs": [
    {
     "name": "stderr",
     "output_type": "stream",
     "text": [
      "/opt/anaconda3/lib/python3.9/site-packages/seaborn/_decorators.py:36: FutureWarning: Pass the following variable as a keyword arg: x. From version 0.12, the only valid positional argument will be `data`, and passing other arguments without an explicit keyword will result in an error or misinterpretation.\n",
      "  warnings.warn(\n"
     ]
    },
    {
     "data": {
      "text/plain": [
       "<AxesSubplot:xlabel='Glucose'>"
      ]
     },
     "execution_count": 7,
     "metadata": {},
     "output_type": "execute_result"
    },
    {
     "data": {
      "image/png": "[encoded data removed]",
      "text/plain": [
       "<Figure size 432x288 with 1 Axes>"
      ]
     },
     "metadata": {
      "needs_background": "light"
     },
     "output_type": "display_data"
    }
   ],
   "source": [
    "sns.boxplot(df[\"Glucose\"])"
   ]
  },
  {
   "cell_type": "code",
   "execution_count": 8,
   "id": "8f7e89d6",
   "metadata": {},
   "outputs": [
    {
     "data": {
      "text/plain": [
       "count    768.000000\n",
       "mean     121.117188\n",
       "std       31.805091\n",
       "min        0.000000\n",
       "25%       99.000000\n",
       "50%      117.000000\n",
       "75%      142.000000\n",
       "max      199.000000\n",
       "Name: Glucose, dtype: float64"
      ]
     },
     "execution_count": 8,
     "metadata": {},
     "output_type": "execute_result"
    }
   ],
   "source": [
    "df[\"Glucose\"].describe()"
   ]
  },
  {
   "cell_type": "code",
   "execution_count": 9,
   "id": "edd2a947",
   "metadata": {},
   "outputs": [
    {
     "data": {
      "text/plain": [
       "117.0"
      ]
     },
     "execution_count": 9,
     "metadata": {},
     "output_type": "execute_result"
    }
   ],
   "source": [
    "df[\"Glucose\"].median()"
   ]
  },
  {
   "cell_type": "code",
   "execution_count": 10,
   "id": "d2ec3290",
   "metadata": {},
   "outputs": [],
   "source": [
    "df[\"Glucose\"] = df[\"Glucose\"].replace({df[\"Glucose\"].min():df[\"Glucose\"].mean()})"
   ]
  },
  {
   "cell_type": "code",
   "execution_count": 11,
   "id": "eddc77bc",
   "metadata": {},
   "outputs": [
    {
     "name": "stderr",
     "output_type": "stream",
     "text": [
      "/opt/anaconda3/lib/python3.9/site-packages/seaborn/_decorators.py:36: FutureWarning: Pass the following variable as a keyword arg: x. From version 0.12, the only valid positional argument will be `data`, and passing other arguments without an explicit keyword will result in an error or misinterpretation.\n",
      "  warnings.warn(\n"
     ]
    },
    {
     "data": {
      "text/plain": [
       "<AxesSubplot:xlabel='Glucose'>"
      ]
     },
     "execution_count": 11,
     "metadata": {},
     "output_type": "execute_result"
    },
    {
     "data": {
      "image/png": "[encoded data removed]",
      "text/plain": [
       "<Figure size 432x288 with 1 Axes>"
      ]
     },
     "metadata": {
      "needs_background": "light"
     },
     "output_type": "display_data"
    }
   ],
   "source": [
    "sns.boxplot(df[\"Glucose\"])"
   ]
  },
  {
   "cell_type": "code",
   "execution_count": 12,
   "id": "85a2978f",
   "metadata": {},
   "outputs": [
    {
     "name": "stderr",
     "output_type": "stream",
     "text": [
      "/opt/anaconda3/lib/python3.9/site-packages/seaborn/_decorators.py:36: FutureWarning: Pass the following variable as a keyword arg: x. From version 0.12, the only valid positional argument will be `data`, and passing other arguments without an explicit keyword will result in an error or misinterpretation.\n",
      "  warnings.warn(\n"
     ]
    },
    {
     "data": {
      "text/plain": [
       "<AxesSubplot:xlabel='BloodPressure'>"
      ]
     },
     "execution_count": 12,
     "metadata": {},
     "output_type": "execute_result"
    },
    {
     "data": {
      "image/png": "[encoded data removed]",
      "text/plain": [
       "<Figure size 432x288 with 1 Axes>"
      ]
     },
     "metadata": {
      "needs_background": "light"
     },
     "output_type": "display_data"
    }
   ],
   "source": [
    "sns.boxplot(df[\"BloodPressure\"])"
   ]
  },
  {
   "cell_type": "code",
   "execution_count": 13,
   "id": "70b536bd",
   "metadata": {},
   "outputs": [
    {
     "name": "stderr",
     "output_type": "stream",
     "text": [
      "/opt/anaconda3/lib/python3.9/site-packages/pandas/core/arraylike.py:364: RuntimeWarning: divide by zero encountered in log\n",
      "  result = getattr(ufunc, method)(*inputs, **kwargs)\n",
      "/opt/anaconda3/lib/python3.9/site-packages/seaborn/_decorators.py:36: FutureWarning: Pass the following variable as a keyword arg: x. From version 0.12, the only valid positional argument will be `data`, and passing other arguments without an explicit keyword will result in an error or misinterpretation.\n",
      "  warnings.warn(\n"
     ]
    },
    {
     "data": {
      "text/plain": [
       "<AxesSubplot:xlabel='BloodPressure'>"
      ]
     },
     "execution_count": 13,
     "metadata": {},
     "output_type": "execute_result"
    },
    {
     "data": {
      "image/png": "[encoded data removed]",
      "text/plain": [
       "<Figure size 432x288 with 1 Axes>"
      ]
     },
     "metadata": {
      "needs_background": "light"
     },
     "output_type": "display_data"
    }
   ],
   "source": [
    "sns.boxplot(np.log(df[\"BloodPressure\"]))"
   ]
  },
  {
   "cell_type": "code",
   "execution_count": 14,
   "id": "861caed7",
   "metadata": {},
   "outputs": [
    {
     "name": "stderr",
     "output_type": "stream",
     "text": [
      "/opt/anaconda3/lib/python3.9/site-packages/pandas/core/arraylike.py:364: RuntimeWarning: divide by zero encountered in log\n",
      "  result = getattr(ufunc, method)(*inputs, **kwargs)\n"
     ]
    },
    {
     "data": {
      "text/plain": [
       "0      3.912023\n",
       "1      4.189655\n",
       "2      4.158883\n",
       "3      4.189655\n",
       "4      3.688879\n",
       "         ...   \n",
       "763    4.330733\n",
       "764    4.248495\n",
       "765    4.276666\n",
       "766    4.094345\n",
       "767    4.248495\n",
       "Name: BloodPressure, Length: 768, dtype: float64"
      ]
     },
     "execution_count": 14,
     "metadata": {},
     "output_type": "execute_result"
    }
   ],
   "source": [
    "df[\"BloodPressure\"] = np.log(df[\"BloodPressure\"])\n",
    "df[\"BloodPressure\"]"
   ]
  },
  {
   "cell_type": "code",
   "execution_count": 15,
   "id": "c6f5bf2e",
   "metadata": {},
   "outputs": [],
   "source": [
    "df[\"BloodPressure\"] = df[\"BloodPressure\"].replace({df[\"BloodPressure\"].min():3.8})\n",
    "df[\"BloodPressure\"] = df[\"BloodPressure\"].replace({df[\"BloodPressure\"].min():3.8})\n",
    "df[\"BloodPressure\"] = df[\"BloodPressure\"].replace({df[\"BloodPressure\"].min():3.8})\n",
    "df[\"BloodPressure\"] = df[\"BloodPressure\"].replace({df[\"BloodPressure\"].min():3.8})                                                \n",
    "                                                   "
   ]
  },
  {
   "cell_type": "code",
   "execution_count": 16,
   "id": "815c9b5d",
   "metadata": {},
   "outputs": [
    {
     "name": "stderr",
     "output_type": "stream",
     "text": [
      "/opt/anaconda3/lib/python3.9/site-packages/seaborn/_decorators.py:36: FutureWarning: Pass the following variable as a keyword arg: x. From version 0.12, the only valid positional argument will be `data`, and passing other arguments without an explicit keyword will result in an error or misinterpretation.\n",
      "  warnings.warn(\n"
     ]
    },
    {
     "data": {
      "text/plain": [
       "<AxesSubplot:xlabel='BloodPressure'>"
      ]
     },
     "execution_count": 16,
     "metadata": {},
     "output_type": "execute_result"
    },
    {
     "data": {
      "image/png": "[encoded data removed]",
      "text/plain": [
       "<Figure size 432x288 with 1 Axes>"
      ]
     },
     "metadata": {
      "needs_background": "light"
     },
     "output_type": "display_data"
    }
   ],
   "source": [
    "sns.boxplot(df[\"BloodPressure\"])"
   ]
  },
  {
   "cell_type": "code",
   "execution_count": 17,
   "id": "b79f0d85",
   "metadata": {},
   "outputs": [],
   "source": [
    "df[\"BloodPressure\"] = df[\"BloodPressure\"].replace({df[\"BloodPressure\"].min():3.8})\n"
   ]
  },
  {
   "cell_type": "code",
   "execution_count": 18,
   "id": "0b33df42",
   "metadata": {},
   "outputs": [
    {
     "name": "stderr",
     "output_type": "stream",
     "text": [
      "/opt/anaconda3/lib/python3.9/site-packages/seaborn/_decorators.py:36: FutureWarning: Pass the following variable as a keyword arg: x. From version 0.12, the only valid positional argument will be `data`, and passing other arguments without an explicit keyword will result in an error or misinterpretation.\n",
      "  warnings.warn(\n"
     ]
    },
    {
     "data": {
      "text/plain": [
       "<AxesSubplot:xlabel='BloodPressure'>"
      ]
     },
     "execution_count": 18,
     "metadata": {},
     "output_type": "execute_result"
    },
    {
     "data": {
      "image/png": "[encoded data removed]",
      "text/plain": [
       "<Figure size 432x288 with 1 Axes>"
      ]
     },
     "metadata": {
      "needs_background": "light"
     },
     "output_type": "display_data"
    }
   ],
   "source": [
    "sns.boxplot(df[\"BloodPressure\"])"
   ]
  },
  {
   "cell_type": "code",
   "execution_count": 19,
   "id": "c25efc7d",
   "metadata": {},
   "outputs": [],
   "source": [
    "df[\"BloodPressure\"] = df[\"BloodPressure\"].replace({df[\"BloodPressure\"].max():4.7})\n"
   ]
  },
  {
   "cell_type": "code",
   "execution_count": 20,
   "id": "84276bf2",
   "metadata": {},
   "outputs": [
    {
     "name": "stderr",
     "output_type": "stream",
     "text": [
      "/opt/anaconda3/lib/python3.9/site-packages/seaborn/_decorators.py:36: FutureWarning: Pass the following variable as a keyword arg: x. From version 0.12, the only valid positional argument will be `data`, and passing other arguments without an explicit keyword will result in an error or misinterpretation.\n",
      "  warnings.warn(\n"
     ]
    },
    {
     "data": {
      "text/plain": [
       "<AxesSubplot:xlabel='BloodPressure'>"
      ]
     },
     "execution_count": 20,
     "metadata": {},
     "output_type": "execute_result"
    },
    {
     "data": {
      "image/png": "[encoded data removed]",
      "text/plain": [
       "<Figure size 432x288 with 1 Axes>"
      ]
     },
     "metadata": {
      "needs_background": "light"
     },
     "output_type": "display_data"
    }
   ],
   "source": [
    "sns.boxplot(df[\"BloodPressure\"])"
   ]
  },
  {
   "cell_type": "code",
   "execution_count": 21,
   "id": "26abf4e6",
   "metadata": {},
   "outputs": [
    {
     "name": "stdout",
     "output_type": "stream",
     "text": [
      "<class 'pandas.core.frame.DataFrame'>\n",
      "RangeIndex: 768 entries, 0 to 767\n",
      "Data columns (total 8 columns):\n",
      " #   Column                    Non-Null Count  Dtype  \n",
      "---  ------                    --------------  -----  \n",
      " 0   Glucose                   768 non-null    float64\n",
      " 1   BloodPressure             768 non-null    float64\n",
      " 2   SkinThickness             768 non-null    int64  \n",
      " 3   Insulin                   768 non-null    int64  \n",
      " 4   BMI                       768 non-null    float64\n",
      " 5   DiabetesPedigreeFunction  768 non-null    float64\n",
      " 6   Age                       768 non-null    int64  \n",
      " 7   Outcome                   768 non-null    int64  \n",
      "dtypes: float64(4), int64(4)\n",
      "memory usage: 48.1 KB\n"
     ]
    }
   ],
   "source": [
    "df.info()"
   ]
  },
  {
   "cell_type": "code",
   "execution_count": 22,
   "id": "3fbff2c6",
   "metadata": {},
   "outputs": [
    {
     "data": {
      "text/plain": [
       "count    768.000000\n",
       "mean      20.536458\n",
       "std       15.952218\n",
       "min        0.000000\n",
       "25%        0.000000\n",
       "50%       23.000000\n",
       "75%       32.000000\n",
       "max       99.000000\n",
       "Name: SkinThickness, dtype: float64"
      ]
     },
     "execution_count": 22,
     "metadata": {},
     "output_type": "execute_result"
    }
   ],
   "source": [
    "df[\"SkinThickness\"].describe()"
   ]
  },
  {
   "cell_type": "code",
   "execution_count": 23,
   "id": "22276fc3",
   "metadata": {},
   "outputs": [
    {
     "name": "stderr",
     "output_type": "stream",
     "text": [
      "/opt/anaconda3/lib/python3.9/site-packages/seaborn/_decorators.py:36: FutureWarning: Pass the following variable as a keyword arg: x. From version 0.12, the only valid positional argument will be `data`, and passing other arguments without an explicit keyword will result in an error or misinterpretation.\n",
      "  warnings.warn(\n"
     ]
    },
    {
     "data": {
      "text/plain": [
       "<AxesSubplot:xlabel='SkinThickness'>"
      ]
     },
     "execution_count": 23,
     "metadata": {},
     "output_type": "execute_result"
    },
    {
     "data": {
      "image/png": "[encoded data removed]",
      "text/plain": [
       "<Figure size 432x288 with 1 Axes>"
      ]
     },
     "metadata": {
      "needs_background": "light"
     },
     "output_type": "display_data"
    }
   ],
   "source": [
    "sns.boxplot(df[\"SkinThickness\"])"
   ]
  },
  {
   "cell_type": "code",
   "execution_count": 24,
   "id": "f374f209",
   "metadata": {},
   "outputs": [],
   "source": [
    "df[\"SkinThickness\"] = df[\"SkinThickness\"].replace({df[\"SkinThickness\"].max():df[\"SkinThickness\"].mean()})"
   ]
  },
  {
   "cell_type": "code",
   "execution_count": 25,
   "id": "13e742ea",
   "metadata": {},
   "outputs": [
    {
     "name": "stderr",
     "output_type": "stream",
     "text": [
      "/opt/anaconda3/lib/python3.9/site-packages/seaborn/_decorators.py:36: FutureWarning: Pass the following variable as a keyword arg: x. From version 0.12, the only valid positional argument will be `data`, and passing other arguments without an explicit keyword will result in an error or misinterpretation.\n",
      "  warnings.warn(\n"
     ]
    },
    {
     "data": {
      "text/plain": [
       "<AxesSubplot:xlabel='SkinThickness'>"
      ]
     },
     "execution_count": 25,
     "metadata": {},
     "output_type": "execute_result"
    },
    {
     "data": {
      "image/png": "[encoded data removed]",
      "text/plain": [
       "<Figure size 432x288 with 1 Axes>"
      ]
     },
     "metadata": {
      "needs_background": "light"
     },
     "output_type": "display_data"
    }
   ],
   "source": [
    "sns.boxplot(df[\"SkinThickness\"])"
   ]
  },
  {
   "cell_type": "code",
   "execution_count": 26,
   "id": "887facce",
   "metadata": {},
   "outputs": [
    {
     "data": {
      "text/plain": [
       "count    768.000000\n",
       "mean      79.799479\n",
       "std      115.244002\n",
       "min        0.000000\n",
       "25%        0.000000\n",
       "50%       30.500000\n",
       "75%      127.250000\n",
       "max      846.000000\n",
       "Name: Insulin, dtype: float64"
      ]
     },
     "execution_count": 26,
     "metadata": {},
     "output_type": "execute_result"
    }
   ],
   "source": [
    "df[\"Insulin\"].describe()"
   ]
  },
  {
   "cell_type": "code",
   "execution_count": 27,
   "id": "32388ea8",
   "metadata": {},
   "outputs": [
    {
     "name": "stderr",
     "output_type": "stream",
     "text": [
      "/opt/anaconda3/lib/python3.9/site-packages/seaborn/_decorators.py:36: FutureWarning: Pass the following variable as a keyword arg: x. From version 0.12, the only valid positional argument will be `data`, and passing other arguments without an explicit keyword will result in an error or misinterpretation.\n",
      "  warnings.warn(\n"
     ]
    },
    {
     "data": {
      "text/plain": [
       "<AxesSubplot:xlabel='Insulin'>"
      ]
     },
     "execution_count": 27,
     "metadata": {},
     "output_type": "execute_result"
    },
    {
     "data": {
      "image/png": "[encoded data removed]",
      "text/plain": [
       "<Figure size 432x288 with 1 Axes>"
      ]
     },
     "metadata": {
      "needs_background": "light"
     },
     "output_type": "display_data"
    }
   ],
   "source": [
    "sns.boxplot(df[\"Insulin\"])"
   ]
  },
  {
   "cell_type": "code",
   "execution_count": 28,
   "id": "cc5c44a3",
   "metadata": {},
   "outputs": [
    {
     "name": "stderr",
     "output_type": "stream",
     "text": [
      "/opt/anaconda3/lib/python3.9/site-packages/seaborn/_decorators.py:36: FutureWarning: Pass the following variable as a keyword arg: x. From version 0.12, the only valid positional argument will be `data`, and passing other arguments without an explicit keyword will result in an error or misinterpretation.\n",
      "  warnings.warn(\n"
     ]
    },
    {
     "data": {
      "text/plain": [
       "<AxesSubplot:xlabel='Insulin'>"
      ]
     },
     "execution_count": 28,
     "metadata": {},
     "output_type": "execute_result"
    },
    {
     "data": {
      "image/png": "[encoded data removed]",
      "text/plain": [
       "<Figure size 432x288 with 1 Axes>"
      ]
     },
     "metadata": {
      "needs_background": "light"
     },
     "output_type": "display_data"
    }
   ],
   "source": [
    "sns.boxplot(np.sqrt(df[\"Insulin\"]))"
   ]
  },
  {
   "cell_type": "code",
   "execution_count": 29,
   "id": "29621212",
   "metadata": {},
   "outputs": [
    {
     "name": "stderr",
     "output_type": "stream",
     "text": [
      "/opt/anaconda3/lib/python3.9/site-packages/seaborn/_decorators.py:36: FutureWarning: Pass the following variable as a keyword arg: x. From version 0.12, the only valid positional argument will be `data`, and passing other arguments without an explicit keyword will result in an error or misinterpretation.\n",
      "  warnings.warn(\n"
     ]
    },
    {
     "data": {
      "text/plain": [
       "<AxesSubplot:xlabel='Insulin'>"
      ]
     },
     "execution_count": 29,
     "metadata": {},
     "output_type": "execute_result"
    },
    {
     "data": {
      "image/png": "[encoded data removed]",
      "text/plain": [
       "<Figure size 432x288 with 1 Axes>"
      ]
     },
     "metadata": {
      "needs_background": "light"
     },
     "output_type": "display_data"
    }
   ],
   "source": [
    "sns.boxplot(np.cbrt(df[\"Insulin\"]))"
   ]
  },
  {
   "cell_type": "code",
   "execution_count": 33,
   "id": "aa1330a9",
   "metadata": {},
   "outputs": [],
   "source": [
    "df[\"Insulin\"] = np.cbrt(df[\"Insulin\"])"
   ]
  },
  {
   "cell_type": "code",
   "execution_count": 34,
   "id": "da743ee3",
   "metadata": {},
   "outputs": [
    {
     "data": {
      "text/plain": [
       "0.000000    374\n",
       "4.717694     11\n",
       "5.065797      9\n",
       "5.192494      9\n",
       "4.932424      8\n",
       "           ... \n",
       "4.179339      1\n",
       "5.550499      1\n",
       "6.341326      1\n",
       "3.732511      1\n",
       "4.820285      1\n",
       "Name: Insulin, Length: 186, dtype: int64"
      ]
     },
     "execution_count": 34,
     "metadata": {},
     "output_type": "execute_result"
    }
   ],
   "source": [
    "df[\"Insulin\"].value_counts()"
   ]
  },
  {
   "cell_type": "code",
   "execution_count": 35,
   "id": "a5fb0dc4",
   "metadata": {},
   "outputs": [
    {
     "name": "stderr",
     "output_type": "stream",
     "text": [
      "/opt/anaconda3/lib/python3.9/site-packages/seaborn/_decorators.py:36: FutureWarning: Pass the following variable as a keyword arg: x. From version 0.12, the only valid positional argument will be `data`, and passing other arguments without an explicit keyword will result in an error or misinterpretation.\n",
      "  warnings.warn(\n"
     ]
    },
    {
     "data": {
      "text/plain": [
       "<AxesSubplot:xlabel='BMI'>"
      ]
     },
     "execution_count": 35,
     "metadata": {},
     "output_type": "execute_result"
    },
    {
     "data": {
      "image/png": "[encoded data removed]",
      "text/plain": [
       "<Figure size 432x288 with 1 Axes>"
      ]
     },
     "metadata": {
      "needs_background": "light"
     },
     "output_type": "display_data"
    }
   ],
   "source": [
    "sns.boxplot(df[\"BMI\"])"
   ]
  },
  {
   "cell_type": "code",
   "execution_count": 36,
   "id": "dad3ed8e",
   "metadata": {},
   "outputs": [
    {
     "name": "stderr",
     "output_type": "stream",
     "text": [
      "/opt/anaconda3/lib/python3.9/site-packages/seaborn/_decorators.py:36: FutureWarning: Pass the following variable as a keyword arg: x. From version 0.12, the only valid positional argument will be `data`, and passing other arguments without an explicit keyword will result in an error or misinterpretation.\n",
      "  warnings.warn(\n"
     ]
    },
    {
     "data": {
      "text/plain": [
       "<AxesSubplot:xlabel='BMI'>"
      ]
     },
     "execution_count": 36,
     "metadata": {},
     "output_type": "execute_result"
    },
    {
     "data": {
      "image/png": "[encoded data removed]",
      "text/plain": [
       "<Figure size 432x288 with 1 Axes>"
      ]
     },
     "metadata": {
      "needs_background": "light"
     },
     "output_type": "display_data"
    }
   ],
   "source": [
    "sns.boxplot(np.sqrt(df[\"BMI\"]))"
   ]
  },
  {
   "cell_type": "code",
   "execution_count": 39,
   "id": "86088591",
   "metadata": {},
   "outputs": [
    {
     "name": "stderr",
     "output_type": "stream",
     "text": [
      "/opt/anaconda3/lib/python3.9/site-packages/seaborn/_decorators.py:36: FutureWarning: Pass the following variable as a keyword arg: x. From version 0.12, the only valid positional argument will be `data`, and passing other arguments without an explicit keyword will result in an error or misinterpretation.\n",
      "  warnings.warn(\n"
     ]
    },
    {
     "data": {
      "text/plain": [
       "<AxesSubplot:xlabel='BMI'>"
      ]
     },
     "execution_count": 39,
     "metadata": {},
     "output_type": "execute_result"
    },
    {
     "data": {
      "image/png": "[encoded data removed]",
      "text/plain": [
       "<Figure size 432x288 with 1 Axes>"
      ]
     },
     "metadata": {
      "needs_background": "light"
     },
     "output_type": "display_data"
    }
   ],
   "source": [
    "sns.boxplot(np.cbrt(df[\"BMI\"]))"
   ]
  },
  {
   "cell_type": "code",
   "execution_count": 40,
   "id": "3c2bdc48",
   "metadata": {},
   "outputs": [
    {
     "name": "stderr",
     "output_type": "stream",
     "text": [
      "/opt/anaconda3/lib/python3.9/site-packages/pandas/core/arraylike.py:364: RuntimeWarning: divide by zero encountered in log\n",
      "  result = getattr(ufunc, method)(*inputs, **kwargs)\n",
      "/opt/anaconda3/lib/python3.9/site-packages/seaborn/_decorators.py:36: FutureWarning: Pass the following variable as a keyword arg: x. From version 0.12, the only valid positional argument will be `data`, and passing other arguments without an explicit keyword will result in an error or misinterpretation.\n",
      "  warnings.warn(\n"
     ]
    },
    {
     "data": {
      "text/plain": [
       "<AxesSubplot:xlabel='BMI'>"
      ]
     },
     "execution_count": 40,
     "metadata": {},
     "output_type": "execute_result"
    },
    {
     "data": {
      "image/png": "[encoded data removed]",
      "text/plain": [
       "<Figure size 432x288 with 1 Axes>"
      ]
     },
     "metadata": {
      "needs_background": "light"
     },
     "output_type": "display_data"
    }
   ],
   "source": [
    "sns.boxplot(np.log(df[\"BMI\"]))"
   ]
  },
  {
   "cell_type": "code",
   "execution_count": 42,
   "id": "e884ba3d",
   "metadata": {},
   "outputs": [
    {
     "data": {
      "text/plain": [
       " 3.465736    13\n",
       " 3.453157    12\n",
       " 3.440418    12\n",
       "-inf         11\n",
       " 3.478158    10\n",
       "             ..\n",
       " 3.602777     1\n",
       " 3.732896     1\n",
       " 3.751854     1\n",
       " 3.756538     1\n",
       " 3.835142     1\n",
       "Name: BMI, Length: 248, dtype: int64"
      ]
     },
     "execution_count": 42,
     "metadata": {},
     "output_type": "execute_result"
    }
   ],
   "source": [
    "np.log(df[\"BMI\"]).value_counts()"
   ]
  },
  {
   "cell_type": "code",
   "execution_count": 43,
   "id": "de98ce1f",
   "metadata": {},
   "outputs": [
    {
     "data": {
      "text/plain": [
       "32.0    13\n",
       "31.6    12\n",
       "31.2    12\n",
       "0.0     11\n",
       "32.4    10\n",
       "        ..\n",
       "36.7     1\n",
       "41.8     1\n",
       "42.6     1\n",
       "42.8     1\n",
       "46.3     1\n",
       "Name: BMI, Length: 248, dtype: int64"
      ]
     },
     "execution_count": 43,
     "metadata": {},
     "output_type": "execute_result"
    }
   ],
   "source": [
    "df[\"BMI\"].value_counts()"
   ]
  },
  {
   "cell_type": "code",
   "execution_count": 44,
   "id": "2f15374e",
   "metadata": {},
   "outputs": [],
   "source": [
    "df[\"BMI\"] = np.cbrt(df[\"BMI\"])"
   ]
  },
  {
   "cell_type": "code",
   "execution_count": 45,
   "id": "5a7d7d3a",
   "metadata": {},
   "outputs": [
    {
     "name": "stderr",
     "output_type": "stream",
     "text": [
      "/opt/anaconda3/lib/python3.9/site-packages/seaborn/_decorators.py:36: FutureWarning: Pass the following variable as a keyword arg: x. From version 0.12, the only valid positional argument will be `data`, and passing other arguments without an explicit keyword will result in an error or misinterpretation.\n",
      "  warnings.warn(\n"
     ]
    },
    {
     "data": {
      "text/plain": [
       "<AxesSubplot:xlabel='BMI'>"
      ]
     },
     "execution_count": 45,
     "metadata": {},
     "output_type": "execute_result"
    },
    {
     "data": {
      "image/png": "[encoded data removed]",
      "text/plain": [
       "<Figure size 432x288 with 1 Axes>"
      ]
     },
     "metadata": {
      "needs_background": "light"
     },
     "output_type": "display_data"
    }
   ],
   "source": [
    "sns.boxplot(df[\"BMI\"])"
   ]
  },
  {
   "cell_type": "code",
   "execution_count": 46,
   "id": "4b74675a",
   "metadata": {},
   "outputs": [],
   "source": [
    "df[\"BMI\"] = df[\"BMI\"].replace({df[\"BMI\"].min():2.6})"
   ]
  },
  {
   "cell_type": "code",
   "execution_count": 47,
   "id": "fe192517",
   "metadata": {},
   "outputs": [],
   "source": [
    "df[\"BMI\"] = df[\"BMI\"].replace({df[\"BMI\"].max():3.6})\n",
    "df[\"BMI\"] = df[\"BMI\"].replace({df[\"BMI\"].max():3.6})\n",
    "df[\"BMI\"] = df[\"BMI\"].replace({df[\"BMI\"].max():3.6})\n",
    "df[\"BMI\"] = df[\"BMI\"].replace({df[\"BMI\"].max():3.6})"
   ]
  },
  {
   "cell_type": "code",
   "execution_count": 48,
   "id": "668247bc",
   "metadata": {},
   "outputs": [
    {
     "name": "stderr",
     "output_type": "stream",
     "text": [
      "/opt/anaconda3/lib/python3.9/site-packages/seaborn/_decorators.py:36: FutureWarning: Pass the following variable as a keyword arg: x. From version 0.12, the only valid positional argument will be `data`, and passing other arguments without an explicit keyword will result in an error or misinterpretation.\n",
      "  warnings.warn(\n"
     ]
    },
    {
     "data": {
      "text/plain": [
       "<AxesSubplot:xlabel='BMI'>"
      ]
     },
     "execution_count": 48,
     "metadata": {},
     "output_type": "execute_result"
    },
    {
     "data": {
      "image/png": "[encoded data removed]",
      "text/plain": [
       "<Figure size 432x288 with 1 Axes>"
      ]
     },
     "metadata": {
      "needs_background": "light"
     },
     "output_type": "display_data"
    }
   ],
   "source": [
    "sns.boxplot(df[\"BMI\"])"
   ]
  },
  {
   "cell_type": "code",
   "execution_count": 49,
   "id": "b708c62b",
   "metadata": {},
   "outputs": [
    {
     "name": "stdout",
     "output_type": "stream",
     "text": [
      "<class 'pandas.core.frame.DataFrame'>\n",
      "RangeIndex: 768 entries, 0 to 767\n",
      "Data columns (total 8 columns):\n",
      " #   Column                    Non-Null Count  Dtype  \n",
      "---  ------                    --------------  -----  \n",
      " 0   Glucose                   768 non-null    float64\n",
      " 1   BloodPressure             768 non-null    float64\n",
      " 2   SkinThickness             768 non-null    float64\n",
      " 3   Insulin                   768 non-null    float64\n",
      " 4   BMI                       768 non-null    float64\n",
      " 5   DiabetesPedigreeFunction  768 non-null    float64\n",
      " 6   Age                       768 non-null    int64  \n",
      " 7   Outcome                   768 non-null    int64  \n",
      "dtypes: float64(6), int64(2)\n",
      "memory usage: 48.1 KB\n"
     ]
    }
   ],
   "source": [
    "df.info()"
   ]
  },
  {
   "cell_type": "code",
   "execution_count": 51,
   "id": "cc89a57b",
   "metadata": {},
   "outputs": [
    {
     "data": {
      "text/plain": [
       "count    768.000000\n",
       "mean       0.471876\n",
       "std        0.331329\n",
       "min        0.078000\n",
       "25%        0.243750\n",
       "50%        0.372500\n",
       "75%        0.626250\n",
       "max        2.420000\n",
       "Name: DiabetesPedigreeFunction, dtype: float64"
      ]
     },
     "execution_count": 51,
     "metadata": {},
     "output_type": "execute_result"
    }
   ],
   "source": [
    "df[\"DiabetesPedigreeFunction\"].describe()"
   ]
  },
  {
   "cell_type": "code",
   "execution_count": 52,
   "id": "862885bb",
   "metadata": {},
   "outputs": [
    {
     "name": "stderr",
     "output_type": "stream",
     "text": [
      "/opt/anaconda3/lib/python3.9/site-packages/seaborn/_decorators.py:36: FutureWarning: Pass the following variable as a keyword arg: x. From version 0.12, the only valid positional argument will be `data`, and passing other arguments without an explicit keyword will result in an error or misinterpretation.\n",
      "  warnings.warn(\n"
     ]
    },
    {
     "data": {
      "text/plain": [
       "<AxesSubplot:xlabel='DiabetesPedigreeFunction'>"
      ]
     },
     "execution_count": 52,
     "metadata": {},
     "output_type": "execute_result"
    },
    {
     "data": {
      "image/png": "[encoded data removed]",
      "text/plain": [
       "<Figure size 432x288 with 1 Axes>"
      ]
     },
     "metadata": {
      "needs_background": "light"
     },
     "output_type": "display_data"
    }
   ],
   "source": [
    "sns.boxplot(df[\"DiabetesPedigreeFunction\"])"
   ]
  },
  {
   "cell_type": "code",
   "execution_count": 53,
   "id": "57dd3a08",
   "metadata": {},
   "outputs": [
    {
     "name": "stderr",
     "output_type": "stream",
     "text": [
      "/opt/anaconda3/lib/python3.9/site-packages/seaborn/_decorators.py:36: FutureWarning: Pass the following variable as a keyword arg: x. From version 0.12, the only valid positional argument will be `data`, and passing other arguments without an explicit keyword will result in an error or misinterpretation.\n",
      "  warnings.warn(\n"
     ]
    },
    {
     "data": {
      "text/plain": [
       "<AxesSubplot:xlabel='DiabetesPedigreeFunction'>"
      ]
     },
     "execution_count": 53,
     "metadata": {},
     "output_type": "execute_result"
    },
    {
     "data": {
      "image/png": "[encoded data removed]",
      "text/plain": [
       "<Figure size 432x288 with 1 Axes>"
      ]
     },
     "metadata": {
      "needs_background": "light"
     },
     "output_type": "display_data"
    }
   ],
   "source": [
    "sns.boxplot(np.sqrt(df[\"DiabetesPedigreeFunction\"]))"
   ]
  },
  {
   "cell_type": "code",
   "execution_count": 54,
   "id": "4fa5a5d2",
   "metadata": {},
   "outputs": [
    {
     "name": "stderr",
     "output_type": "stream",
     "text": [
      "/opt/anaconda3/lib/python3.9/site-packages/seaborn/_decorators.py:36: FutureWarning: Pass the following variable as a keyword arg: x. From version 0.12, the only valid positional argument will be `data`, and passing other arguments without an explicit keyword will result in an error or misinterpretation.\n",
      "  warnings.warn(\n"
     ]
    },
    {
     "data": {
      "text/plain": [
       "<AxesSubplot:xlabel='DiabetesPedigreeFunction'>"
      ]
     },
     "execution_count": 54,
     "metadata": {},
     "output_type": "execute_result"
    },
    {
     "data": {
      "image/png": "[encoded data removed]",
      "text/plain": [
       "<Figure size 432x288 with 1 Axes>"
      ]
     },
     "metadata": {
      "needs_background": "light"
     },
     "output_type": "display_data"
    }
   ],
   "source": [
    "sns.boxplot(np.cbrt(df[\"DiabetesPedigreeFunction\"]))"
   ]
  },
  {
   "cell_type": "code",
   "execution_count": 55,
   "id": "c330af1a",
   "metadata": {},
   "outputs": [
    {
     "name": "stderr",
     "output_type": "stream",
     "text": [
      "/opt/anaconda3/lib/python3.9/site-packages/seaborn/_decorators.py:36: FutureWarning: Pass the following variable as a keyword arg: x. From version 0.12, the only valid positional argument will be `data`, and passing other arguments without an explicit keyword will result in an error or misinterpretation.\n",
      "  warnings.warn(\n"
     ]
    },
    {
     "data": {
      "text/plain": [
       "<AxesSubplot:xlabel='DiabetesPedigreeFunction'>"
      ]
     },
     "execution_count": 55,
     "metadata": {},
     "output_type": "execute_result"
    },
    {
     "data": {
      "image/png": "[encoded data removed]",
      "text/plain": [
       "<Figure size 432x288 with 1 Axes>"
      ]
     },
     "metadata": {
      "needs_background": "light"
     },
     "output_type": "display_data"
    }
   ],
   "source": [
    "sns.boxplot(np.log(df[\"DiabetesPedigreeFunction\"]))"
   ]
  },
  {
   "cell_type": "code",
   "execution_count": 57,
   "id": "2866f957",
   "metadata": {},
   "outputs": [],
   "source": [
    "df[\"DiabetesPedigreeFunction\"] = np.log(df[\"DiabetesPedigreeFunction\"])"
   ]
  },
  {
   "cell_type": "code",
   "execution_count": 58,
   "id": "29d56712",
   "metadata": {},
   "outputs": [
    {
     "data": {
      "text/plain": [
       "count    768.000000\n",
       "mean      33.243490\n",
       "std       11.758182\n",
       "min       21.000000\n",
       "25%       24.000000\n",
       "50%       29.000000\n",
       "75%       41.000000\n",
       "max       81.000000\n",
       "Name: Age, dtype: float64"
      ]
     },
     "execution_count": 58,
     "metadata": {},
     "output_type": "execute_result"
    }
   ],
   "source": [
    "df[\"Age\"].describe()"
   ]
  },
  {
   "cell_type": "code",
   "execution_count": 59,
   "id": "bfcf4e26",
   "metadata": {},
   "outputs": [
    {
     "name": "stderr",
     "output_type": "stream",
     "text": [
      "/opt/anaconda3/lib/python3.9/site-packages/seaborn/_decorators.py:36: FutureWarning: Pass the following variable as a keyword arg: x. From version 0.12, the only valid positional argument will be `data`, and passing other arguments without an explicit keyword will result in an error or misinterpretation.\n",
      "  warnings.warn(\n"
     ]
    },
    {
     "data": {
      "text/plain": [
       "<AxesSubplot:xlabel='Age'>"
      ]
     },
     "execution_count": 59,
     "metadata": {},
     "output_type": "execute_result"
    },
    {
     "data": {
      "image/png": "[encoded data removed]",
      "text/plain": [
       "<Figure size 432x288 with 1 Axes>"
      ]
     },
     "metadata": {
      "needs_background": "light"
     },
     "output_type": "display_data"
    }
   ],
   "source": [
    "sns.boxplot(df[\"Age\"])"
   ]
  },
  {
   "cell_type": "code",
   "execution_count": 60,
   "id": "f950fc31",
   "metadata": {},
   "outputs": [
    {
     "name": "stderr",
     "output_type": "stream",
     "text": [
      "/opt/anaconda3/lib/python3.9/site-packages/seaborn/_decorators.py:36: FutureWarning: Pass the following variable as a keyword arg: x. From version 0.12, the only valid positional argument will be `data`, and passing other arguments without an explicit keyword will result in an error or misinterpretation.\n",
      "  warnings.warn(\n"
     ]
    },
    {
     "data": {
      "text/plain": [
       "<AxesSubplot:xlabel='Age'>"
      ]
     },
     "execution_count": 60,
     "metadata": {},
     "output_type": "execute_result"
    },
    {
     "data": {
      "image/png": "[encoded data removed]",
      "text/plain": [
       "<Figure size 432x288 with 1 Axes>"
      ]
     },
     "metadata": {
      "needs_background": "light"
     },
     "output_type": "display_data"
    }
   ],
   "source": [
    "sns.boxplot(np.sqrt(df[\"Age\"]))"
   ]
  },
  {
   "cell_type": "code",
   "execution_count": 62,
   "id": "e3408438",
   "metadata": {},
   "outputs": [
    {
     "name": "stderr",
     "output_type": "stream",
     "text": [
      "/opt/anaconda3/lib/python3.9/site-packages/seaborn/_decorators.py:36: FutureWarning: Pass the following variable as a keyword arg: x. From version 0.12, the only valid positional argument will be `data`, and passing other arguments without an explicit keyword will result in an error or misinterpretation.\n",
      "  warnings.warn(\n"
     ]
    },
    {
     "data": {
      "text/plain": [
       "<AxesSubplot:xlabel='Age'>"
      ]
     },
     "execution_count": 62,
     "metadata": {},
     "output_type": "execute_result"
    },
    {
     "data": {
      "image/png": "[encoded data removed]",
      "text/plain": [
       "<Figure size 432x288 with 1 Axes>"
      ]
     },
     "metadata": {
      "needs_background": "light"
     },
     "output_type": "display_data"
    }
   ],
   "source": [
    "sns.boxplot(np.cbrt(df[\"Age\"]))"
   ]
  },
  {
   "cell_type": "code",
   "execution_count": 63,
   "id": "b699fbe4",
   "metadata": {},
   "outputs": [
    {
     "name": "stderr",
     "output_type": "stream",
     "text": [
      "/opt/anaconda3/lib/python3.9/site-packages/seaborn/_decorators.py:36: FutureWarning: Pass the following variable as a keyword arg: x. From version 0.12, the only valid positional argument will be `data`, and passing other arguments without an explicit keyword will result in an error or misinterpretation.\n",
      "  warnings.warn(\n"
     ]
    },
    {
     "data": {
      "text/plain": [
       "<AxesSubplot:xlabel='Age'>"
      ]
     },
     "execution_count": 63,
     "metadata": {},
     "output_type": "execute_result"
    },
    {
     "data": {
      "image/png": "[encoded data removed]",
      "text/plain": [
       "<Figure size 432x288 with 1 Axes>"
      ]
     },
     "metadata": {
      "needs_background": "light"
     },
     "output_type": "display_data"
    }
   ],
   "source": [
    "sns.boxplot(np.log(df[\"Age\"]))"
   ]
  },
  {
   "cell_type": "code",
   "execution_count": 65,
   "id": "e99019fc",
   "metadata": {},
   "outputs": [],
   "source": [
    "df[\"Age\"] = np.log(df[\"Age\"])"
   ]
  },
  {
   "cell_type": "code",
   "execution_count": 66,
   "id": "8f7a7b17",
   "metadata": {},
   "outputs": [
    {
     "data": {
      "text/html": [
       "<div>\n",
       "<style scoped>\n",
       "    .dataframe tbody tr th:only-of-type {\n",
       "        vertical-align: middle;\n",
       "    }\n",
       "\n",
       "    .dataframe tbody tr th {\n",
       "        vertical-align: top;\n",
       "    }\n",
       "\n",
       "    .dataframe thead th {\n",
       "        text-align: right;\n",
       "    }\n",
       "</style>\n",
       "<table border=\"1\" class=\"dataframe\">\n",
       "  <thead>\n",
       "    <tr style=\"text-align: right;\">\n",
       "      <th></th>\n",
       "      <th>Glucose</th>\n",
       "      <th>BloodPressure</th>\n",
       "      <th>SkinThickness</th>\n",
       "      <th>Insulin</th>\n",
       "      <th>BMI</th>\n",
       "      <th>DiabetesPedigreeFunction</th>\n",
       "      <th>Age</th>\n",
       "      <th>Outcome</th>\n",
       "    </tr>\n",
       "  </thead>\n",
       "  <tbody>\n",
       "    <tr>\n",
       "      <th>0</th>\n",
       "      <td>148.0</td>\n",
       "      <td>3.912023</td>\n",
       "      <td>35.0</td>\n",
       "      <td>0.000000</td>\n",
       "      <td>3.226857</td>\n",
       "      <td>-0.466809</td>\n",
       "      <td>3.912023</td>\n",
       "      <td>1</td>\n",
       "    </tr>\n",
       "    <tr>\n",
       "      <th>1</th>\n",
       "      <td>85.0</td>\n",
       "      <td>4.189655</td>\n",
       "      <td>29.0</td>\n",
       "      <td>0.000000</td>\n",
       "      <td>2.985111</td>\n",
       "      <td>-1.046969</td>\n",
       "      <td>3.433987</td>\n",
       "      <td>0</td>\n",
       "    </tr>\n",
       "    <tr>\n",
       "      <th>2</th>\n",
       "      <td>183.0</td>\n",
       "      <td>4.158883</td>\n",
       "      <td>0.0</td>\n",
       "      <td>0.000000</td>\n",
       "      <td>2.856178</td>\n",
       "      <td>-0.397497</td>\n",
       "      <td>3.951244</td>\n",
       "      <td>1</td>\n",
       "    </tr>\n",
       "    <tr>\n",
       "      <th>3</th>\n",
       "      <td>150.0</td>\n",
       "      <td>4.189655</td>\n",
       "      <td>23.0</td>\n",
       "      <td>4.546836</td>\n",
       "      <td>3.040200</td>\n",
       "      <td>-1.789761</td>\n",
       "      <td>3.044522</td>\n",
       "      <td>0</td>\n",
       "    </tr>\n",
       "    <tr>\n",
       "      <th>4</th>\n",
       "      <td>150.0</td>\n",
       "      <td>3.800000</td>\n",
       "      <td>35.0</td>\n",
       "      <td>5.517848</td>\n",
       "      <td>3.506112</td>\n",
       "      <td>0.827678</td>\n",
       "      <td>3.496508</td>\n",
       "      <td>1</td>\n",
       "    </tr>\n",
       "    <tr>\n",
       "      <th>...</th>\n",
       "      <td>...</td>\n",
       "      <td>...</td>\n",
       "      <td>...</td>\n",
       "      <td>...</td>\n",
       "      <td>...</td>\n",
       "      <td>...</td>\n",
       "      <td>...</td>\n",
       "      <td>...</td>\n",
       "    </tr>\n",
       "    <tr>\n",
       "      <th>763</th>\n",
       "      <td>101.0</td>\n",
       "      <td>4.330733</td>\n",
       "      <td>48.0</td>\n",
       "      <td>5.646216</td>\n",
       "      <td>3.204291</td>\n",
       "      <td>-1.766092</td>\n",
       "      <td>4.143135</td>\n",
       "      <td>0</td>\n",
       "    </tr>\n",
       "    <tr>\n",
       "      <th>764</th>\n",
       "      <td>122.0</td>\n",
       "      <td>4.248495</td>\n",
       "      <td>27.0</td>\n",
       "      <td>0.000000</td>\n",
       "      <td>3.326207</td>\n",
       "      <td>-1.078810</td>\n",
       "      <td>3.295837</td>\n",
       "      <td>0</td>\n",
       "    </tr>\n",
       "    <tr>\n",
       "      <th>765</th>\n",
       "      <td>121.0</td>\n",
       "      <td>4.276666</td>\n",
       "      <td>23.0</td>\n",
       "      <td>4.820285</td>\n",
       "      <td>2.970073</td>\n",
       "      <td>-1.406497</td>\n",
       "      <td>3.401197</td>\n",
       "      <td>0</td>\n",
       "    </tr>\n",
       "    <tr>\n",
       "      <th>766</th>\n",
       "      <td>126.0</td>\n",
       "      <td>4.094345</td>\n",
       "      <td>0.0</td>\n",
       "      <td>0.000000</td>\n",
       "      <td>3.110681</td>\n",
       "      <td>-1.052683</td>\n",
       "      <td>3.850148</td>\n",
       "      <td>1</td>\n",
       "    </tr>\n",
       "    <tr>\n",
       "      <th>767</th>\n",
       "      <td>93.0</td>\n",
       "      <td>4.248495</td>\n",
       "      <td>31.0</td>\n",
       "      <td>0.000000</td>\n",
       "      <td>3.120982</td>\n",
       "      <td>-1.155183</td>\n",
       "      <td>3.135494</td>\n",
       "      <td>0</td>\n",
       "    </tr>\n",
       "  </tbody>\n",
       "</table>\n",
       "<p>768 rows × 8 columns</p>\n",
       "</div>"
      ],
      "text/plain": [
       "     Glucose  BloodPressure  SkinThickness   Insulin       BMI  \\\n",
       "0      148.0       3.912023           35.0  0.000000  3.226857   \n",
       "1       85.0       4.189655           29.0  0.000000  2.985111   \n",
       "2      183.0       4.158883            0.0  0.000000  2.856178   \n",
       "3      150.0       4.189655           23.0  4.546836  3.040200   \n",
       "4      150.0       3.800000           35.0  5.517848  3.506112   \n",
       "..       ...            ...            ...       ...       ...   \n",
       "763    101.0       4.330733           48.0  5.646216  3.204291   \n",
       "764    122.0       4.248495           27.0  0.000000  3.326207   \n",
       "765    121.0       4.276666           23.0  4.820285  2.970073   \n",
       "766    126.0       4.094345            0.0  0.000000  3.110681   \n",
       "767     93.0       4.248495           31.0  0.000000  3.120982   \n",
       "\n",
       "     DiabetesPedigreeFunction       Age  Outcome  \n",
       "0                   -0.466809  3.912023        1  \n",
       "1                   -1.046969  3.433987        0  \n",
       "2                   -0.397497  3.951244        1  \n",
       "3                   -1.789761  3.044522        0  \n",
       "4                    0.827678  3.496508        1  \n",
       "..                        ...       ...      ...  \n",
       "763                 -1.766092  4.143135        0  \n",
       "764                 -1.078810  3.295837        0  \n",
       "765                 -1.406497  3.401197        0  \n",
       "766                 -1.052683  3.850148        1  \n",
       "767                 -1.155183  3.135494        0  \n",
       "\n",
       "[768 rows x 8 columns]"
      ]
     },
     "execution_count": 66,
     "metadata": {},
     "output_type": "execute_result"
    }
   ],
   "source": [
    "df"
   ]
  },
  {
   "cell_type": "markdown",
   "id": "f394d3c0",
   "metadata": {},
   "source": [
    "### Scaling"
   ]
  },
  {
   "cell_type": "raw",
   "id": "38455a05",
   "metadata": {},
   "source": [
    "As we have already taken care of outliers so in this case we will scale the data using\n",
    "Normalization"
   ]
  },
  {
   "cell_type": "code",
   "execution_count": 67,
   "id": "2c2d0d28",
   "metadata": {},
   "outputs": [
    {
     "data": {
      "text/html": [
       "<div>\n",
       "<style scoped>\n",
       "    .dataframe tbody tr th:only-of-type {\n",
       "        vertical-align: middle;\n",
       "    }\n",
       "\n",
       "    .dataframe tbody tr th {\n",
       "        vertical-align: top;\n",
       "    }\n",
       "\n",
       "    .dataframe thead th {\n",
       "        text-align: right;\n",
       "    }\n",
       "</style>\n",
       "<table border=\"1\" class=\"dataframe\">\n",
       "  <thead>\n",
       "    <tr style=\"text-align: right;\">\n",
       "      <th></th>\n",
       "      <th>Glucose</th>\n",
       "      <th>BloodPressure</th>\n",
       "      <th>SkinThickness</th>\n",
       "      <th>Insulin</th>\n",
       "      <th>BMI</th>\n",
       "      <th>DiabetesPedigreeFunction</th>\n",
       "      <th>Age</th>\n",
       "    </tr>\n",
       "  </thead>\n",
       "  <tbody>\n",
       "    <tr>\n",
       "      <th>0</th>\n",
       "      <td>148.0</td>\n",
       "      <td>3.912023</td>\n",
       "      <td>35.0</td>\n",
       "      <td>0.000000</td>\n",
       "      <td>3.226857</td>\n",
       "      <td>-0.466809</td>\n",
       "      <td>3.912023</td>\n",
       "    </tr>\n",
       "    <tr>\n",
       "      <th>1</th>\n",
       "      <td>85.0</td>\n",
       "      <td>4.189655</td>\n",
       "      <td>29.0</td>\n",
       "      <td>0.000000</td>\n",
       "      <td>2.985111</td>\n",
       "      <td>-1.046969</td>\n",
       "      <td>3.433987</td>\n",
       "    </tr>\n",
       "    <tr>\n",
       "      <th>2</th>\n",
       "      <td>183.0</td>\n",
       "      <td>4.158883</td>\n",
       "      <td>0.0</td>\n",
       "      <td>0.000000</td>\n",
       "      <td>2.856178</td>\n",
       "      <td>-0.397497</td>\n",
       "      <td>3.951244</td>\n",
       "    </tr>\n",
       "    <tr>\n",
       "      <th>3</th>\n",
       "      <td>150.0</td>\n",
       "      <td>4.189655</td>\n",
       "      <td>23.0</td>\n",
       "      <td>4.546836</td>\n",
       "      <td>3.040200</td>\n",
       "      <td>-1.789761</td>\n",
       "      <td>3.044522</td>\n",
       "    </tr>\n",
       "    <tr>\n",
       "      <th>4</th>\n",
       "      <td>150.0</td>\n",
       "      <td>3.800000</td>\n",
       "      <td>35.0</td>\n",
       "      <td>5.517848</td>\n",
       "      <td>3.506112</td>\n",
       "      <td>0.827678</td>\n",
       "      <td>3.496508</td>\n",
       "    </tr>\n",
       "    <tr>\n",
       "      <th>...</th>\n",
       "      <td>...</td>\n",
       "      <td>...</td>\n",
       "      <td>...</td>\n",
       "      <td>...</td>\n",
       "      <td>...</td>\n",
       "      <td>...</td>\n",
       "      <td>...</td>\n",
       "    </tr>\n",
       "    <tr>\n",
       "      <th>763</th>\n",
       "      <td>101.0</td>\n",
       "      <td>4.330733</td>\n",
       "      <td>48.0</td>\n",
       "      <td>5.646216</td>\n",
       "      <td>3.204291</td>\n",
       "      <td>-1.766092</td>\n",
       "      <td>4.143135</td>\n",
       "    </tr>\n",
       "    <tr>\n",
       "      <th>764</th>\n",
       "      <td>122.0</td>\n",
       "      <td>4.248495</td>\n",
       "      <td>27.0</td>\n",
       "      <td>0.000000</td>\n",
       "      <td>3.326207</td>\n",
       "      <td>-1.078810</td>\n",
       "      <td>3.295837</td>\n",
       "    </tr>\n",
       "    <tr>\n",
       "      <th>765</th>\n",
       "      <td>121.0</td>\n",
       "      <td>4.276666</td>\n",
       "      <td>23.0</td>\n",
       "      <td>4.820285</td>\n",
       "      <td>2.970073</td>\n",
       "      <td>-1.406497</td>\n",
       "      <td>3.401197</td>\n",
       "    </tr>\n",
       "    <tr>\n",
       "      <th>766</th>\n",
       "      <td>126.0</td>\n",
       "      <td>4.094345</td>\n",
       "      <td>0.0</td>\n",
       "      <td>0.000000</td>\n",
       "      <td>3.110681</td>\n",
       "      <td>-1.052683</td>\n",
       "      <td>3.850148</td>\n",
       "    </tr>\n",
       "    <tr>\n",
       "      <th>767</th>\n",
       "      <td>93.0</td>\n",
       "      <td>4.248495</td>\n",
       "      <td>31.0</td>\n",
       "      <td>0.000000</td>\n",
       "      <td>3.120982</td>\n",
       "      <td>-1.155183</td>\n",
       "      <td>3.135494</td>\n",
       "    </tr>\n",
       "  </tbody>\n",
       "</table>\n",
       "<p>768 rows × 7 columns</p>\n",
       "</div>"
      ],
      "text/plain": [
       "     Glucose  BloodPressure  SkinThickness   Insulin       BMI  \\\n",
       "0      148.0       3.912023           35.0  0.000000  3.226857   \n",
       "1       85.0       4.189655           29.0  0.000000  2.985111   \n",
       "2      183.0       4.158883            0.0  0.000000  2.856178   \n",
       "3      150.0       4.189655           23.0  4.546836  3.040200   \n",
       "4      150.0       3.800000           35.0  5.517848  3.506112   \n",
       "..       ...            ...            ...       ...       ...   \n",
       "763    101.0       4.330733           48.0  5.646216  3.204291   \n",
       "764    122.0       4.248495           27.0  0.000000  3.326207   \n",
       "765    121.0       4.276666           23.0  4.820285  2.970073   \n",
       "766    126.0       4.094345            0.0  0.000000  3.110681   \n",
       "767     93.0       4.248495           31.0  0.000000  3.120982   \n",
       "\n",
       "     DiabetesPedigreeFunction       Age  \n",
       "0                   -0.466809  3.912023  \n",
       "1                   -1.046969  3.433987  \n",
       "2                   -0.397497  3.951244  \n",
       "3                   -1.789761  3.044522  \n",
       "4                    0.827678  3.496508  \n",
       "..                        ...       ...  \n",
       "763                 -1.766092  4.143135  \n",
       "764                 -1.078810  3.295837  \n",
       "765                 -1.406497  3.401197  \n",
       "766                 -1.052683  3.850148  \n",
       "767                 -1.155183  3.135494  \n",
       "\n",
       "[768 rows x 7 columns]"
      ]
     },
     "execution_count": 67,
     "metadata": {},
     "output_type": "execute_result"
    }
   ],
   "source": [
    "x_df = df.drop(\"Outcome\",axis=1)\n",
    "x_df"
   ]
  },
  {
   "cell_type": "code",
   "execution_count": 68,
   "id": "c11437ad",
   "metadata": {},
   "outputs": [
    {
     "data": {
      "text/html": [
       "<div>\n",
       "<style scoped>\n",
       "    .dataframe tbody tr th:only-of-type {\n",
       "        vertical-align: middle;\n",
       "    }\n",
       "\n",
       "    .dataframe tbody tr th {\n",
       "        vertical-align: top;\n",
       "    }\n",
       "\n",
       "    .dataframe thead th {\n",
       "        text-align: right;\n",
       "    }\n",
       "</style>\n",
       "<table border=\"1\" class=\"dataframe\">\n",
       "  <thead>\n",
       "    <tr style=\"text-align: right;\">\n",
       "      <th></th>\n",
       "      <th>Glucose</th>\n",
       "      <th>BloodPressure</th>\n",
       "      <th>SkinThickness</th>\n",
       "      <th>Insulin</th>\n",
       "      <th>BMI</th>\n",
       "      <th>DiabetesPedigreeFunction</th>\n",
       "      <th>Age</th>\n",
       "    </tr>\n",
       "  </thead>\n",
       "  <tbody>\n",
       "    <tr>\n",
       "      <th>count</th>\n",
       "      <td>768.000000</td>\n",
       "      <td>768.000000</td>\n",
       "      <td>768.000000</td>\n",
       "      <td>768.000000</td>\n",
       "      <td>768.000000</td>\n",
       "      <td>768.000000</td>\n",
       "      <td>768.000000</td>\n",
       "    </tr>\n",
       "    <tr>\n",
       "      <th>mean</th>\n",
       "      <td>121.905711</td>\n",
       "      <td>4.247260</td>\n",
       "      <td>20.434292</td>\n",
       "      <td>2.617181</td>\n",
       "      <td>3.164211</td>\n",
       "      <td>-0.959940</td>\n",
       "      <td>3.448894</td>\n",
       "    </tr>\n",
       "    <tr>\n",
       "      <th>std</th>\n",
       "      <td>30.254140</td>\n",
       "      <td>0.192601</td>\n",
       "      <td>15.698281</td>\n",
       "      <td>2.690498</td>\n",
       "      <td>0.228922</td>\n",
       "      <td>0.644322</td>\n",
       "      <td>0.322685</td>\n",
       "    </tr>\n",
       "    <tr>\n",
       "      <th>min</th>\n",
       "      <td>44.000000</td>\n",
       "      <td>3.784190</td>\n",
       "      <td>0.000000</td>\n",
       "      <td>0.000000</td>\n",
       "      <td>2.600000</td>\n",
       "      <td>-2.551046</td>\n",
       "      <td>3.044522</td>\n",
       "    </tr>\n",
       "    <tr>\n",
       "      <th>25%</th>\n",
       "      <td>100.000000</td>\n",
       "      <td>4.127134</td>\n",
       "      <td>0.000000</td>\n",
       "      <td>0.000000</td>\n",
       "      <td>3.011070</td>\n",
       "      <td>-1.411614</td>\n",
       "      <td>3.178054</td>\n",
       "    </tr>\n",
       "    <tr>\n",
       "      <th>50%</th>\n",
       "      <td>118.000000</td>\n",
       "      <td>4.276666</td>\n",
       "      <td>23.000000</td>\n",
       "      <td>3.123559</td>\n",
       "      <td>3.174802</td>\n",
       "      <td>-0.987526</td>\n",
       "      <td>3.367296</td>\n",
       "    </tr>\n",
       "    <tr>\n",
       "      <th>75%</th>\n",
       "      <td>142.000000</td>\n",
       "      <td>4.382027</td>\n",
       "      <td>32.000000</td>\n",
       "      <td>5.029815</td>\n",
       "      <td>3.320170</td>\n",
       "      <td>-0.468006</td>\n",
       "      <td>3.713572</td>\n",
       "    </tr>\n",
       "    <tr>\n",
       "      <th>max</th>\n",
       "      <td>199.000000</td>\n",
       "      <td>4.736198</td>\n",
       "      <td>63.000000</td>\n",
       "      <td>9.457800</td>\n",
       "      <td>3.761005</td>\n",
       "      <td>0.883768</td>\n",
       "      <td>4.394449</td>\n",
       "    </tr>\n",
       "  </tbody>\n",
       "</table>\n",
       "</div>"
      ],
      "text/plain": [
       "          Glucose  BloodPressure  SkinThickness     Insulin         BMI  \\\n",
       "count  768.000000     768.000000     768.000000  768.000000  768.000000   \n",
       "mean   121.905711       4.247260      20.434292    2.617181    3.164211   \n",
       "std     30.254140       0.192601      15.698281    2.690498    0.228922   \n",
       "min     44.000000       3.784190       0.000000    0.000000    2.600000   \n",
       "25%    100.000000       4.127134       0.000000    0.000000    3.011070   \n",
       "50%    118.000000       4.276666      23.000000    3.123559    3.174802   \n",
       "75%    142.000000       4.382027      32.000000    5.029815    3.320170   \n",
       "max    199.000000       4.736198      63.000000    9.457800    3.761005   \n",
       "\n",
       "       DiabetesPedigreeFunction         Age  \n",
       "count                768.000000  768.000000  \n",
       "mean                  -0.959940    3.448894  \n",
       "std                    0.644322    0.322685  \n",
       "min                   -2.551046    3.044522  \n",
       "25%                   -1.411614    3.178054  \n",
       "50%                   -0.987526    3.367296  \n",
       "75%                   -0.468006    3.713572  \n",
       "max                    0.883768    4.394449  "
      ]
     },
     "execution_count": 68,
     "metadata": {},
     "output_type": "execute_result"
    }
   ],
   "source": [
    "x_df.describe()"
   ]
  },
  {
   "cell_type": "code",
   "execution_count": 69,
   "id": "486280e4",
   "metadata": {},
   "outputs": [
    {
     "data": {
      "text/plain": [
       "array([[0.67096774, 0.13427751, 0.55555556, ..., 0.53992657, 0.60679784,\n",
       "        0.6426279 ],\n",
       "       [0.26451613, 0.42590478, 0.46031746, ..., 0.3317053 , 0.43789195,\n",
       "        0.28850808],\n",
       "       [0.89677419, 0.39358191, 0.        , ..., 0.2206522 , 0.62697704,\n",
       "        0.67168185],\n",
       "       ...,\n",
       "       [0.49677419, 0.51730244, 0.36507937, ..., 0.31875221, 0.33322019,\n",
       "        0.264218  ],\n",
       "       [0.52903226, 0.32578998, 0.        , ..., 0.4398614 , 0.43622831,\n",
       "        0.59679178],\n",
       "       [0.31612903, 0.48771146, 0.49206349, ..., 0.44873332, 0.40638702,\n",
       "        0.06739016]])"
      ]
     },
     "execution_count": 69,
     "metadata": {},
     "output_type": "execute_result"
    }
   ],
   "source": [
    "normal_scaler = MinMaxScaler()\n",
    "array = normal_scaler.fit_transform(x_df)\n",
    "array"
   ]
  },
  {
   "cell_type": "code",
   "execution_count": 70,
   "id": "9eedf3ea",
   "metadata": {},
   "outputs": [
    {
     "data": {
      "text/html": [
       "<div>\n",
       "<style scoped>\n",
       "    .dataframe tbody tr th:only-of-type {\n",
       "        vertical-align: middle;\n",
       "    }\n",
       "\n",
       "    .dataframe tbody tr th {\n",
       "        vertical-align: top;\n",
       "    }\n",
       "\n",
       "    .dataframe thead th {\n",
       "        text-align: right;\n",
       "    }\n",
       "</style>\n",
       "<table border=\"1\" class=\"dataframe\">\n",
       "  <thead>\n",
       "    <tr style=\"text-align: right;\">\n",
       "      <th></th>\n",
       "      <th>Glucose</th>\n",
       "      <th>BloodPressure</th>\n",
       "      <th>SkinThickness</th>\n",
       "      <th>Insulin</th>\n",
       "      <th>BMI</th>\n",
       "      <th>DiabetesPedigreeFunction</th>\n",
       "      <th>Age</th>\n",
       "    </tr>\n",
       "  </thead>\n",
       "  <tbody>\n",
       "    <tr>\n",
       "      <th>0</th>\n",
       "      <td>0.670968</td>\n",
       "      <td>0.134278</td>\n",
       "      <td>0.555556</td>\n",
       "      <td>0.000000</td>\n",
       "      <td>0.539927</td>\n",
       "      <td>0.606798</td>\n",
       "      <td>0.642628</td>\n",
       "    </tr>\n",
       "    <tr>\n",
       "      <th>1</th>\n",
       "      <td>0.264516</td>\n",
       "      <td>0.425905</td>\n",
       "      <td>0.460317</td>\n",
       "      <td>0.000000</td>\n",
       "      <td>0.331705</td>\n",
       "      <td>0.437892</td>\n",
       "      <td>0.288508</td>\n",
       "    </tr>\n",
       "    <tr>\n",
       "      <th>2</th>\n",
       "      <td>0.896774</td>\n",
       "      <td>0.393582</td>\n",
       "      <td>0.000000</td>\n",
       "      <td>0.000000</td>\n",
       "      <td>0.220652</td>\n",
       "      <td>0.626977</td>\n",
       "      <td>0.671682</td>\n",
       "    </tr>\n",
       "    <tr>\n",
       "      <th>3</th>\n",
       "      <td>0.683871</td>\n",
       "      <td>0.425905</td>\n",
       "      <td>0.365079</td>\n",
       "      <td>0.480750</td>\n",
       "      <td>0.379154</td>\n",
       "      <td>0.221638</td>\n",
       "      <td>0.000000</td>\n",
       "    </tr>\n",
       "    <tr>\n",
       "      <th>4</th>\n",
       "      <td>0.683871</td>\n",
       "      <td>0.016607</td>\n",
       "      <td>0.555556</td>\n",
       "      <td>0.583418</td>\n",
       "      <td>0.780455</td>\n",
       "      <td>0.983670</td>\n",
       "      <td>0.334822</td>\n",
       "    </tr>\n",
       "    <tr>\n",
       "      <th>...</th>\n",
       "      <td>...</td>\n",
       "      <td>...</td>\n",
       "      <td>...</td>\n",
       "      <td>...</td>\n",
       "      <td>...</td>\n",
       "      <td>...</td>\n",
       "      <td>...</td>\n",
       "    </tr>\n",
       "    <tr>\n",
       "      <th>763</th>\n",
       "      <td>0.367742</td>\n",
       "      <td>0.574095</td>\n",
       "      <td>0.761905</td>\n",
       "      <td>0.596990</td>\n",
       "      <td>0.520490</td>\n",
       "      <td>0.228529</td>\n",
       "      <td>0.813831</td>\n",
       "    </tr>\n",
       "    <tr>\n",
       "      <th>764</th>\n",
       "      <td>0.503226</td>\n",
       "      <td>0.487711</td>\n",
       "      <td>0.428571</td>\n",
       "      <td>0.000000</td>\n",
       "      <td>0.625499</td>\n",
       "      <td>0.428622</td>\n",
       "      <td>0.186169</td>\n",
       "    </tr>\n",
       "    <tr>\n",
       "      <th>765</th>\n",
       "      <td>0.496774</td>\n",
       "      <td>0.517302</td>\n",
       "      <td>0.365079</td>\n",
       "      <td>0.509662</td>\n",
       "      <td>0.318752</td>\n",
       "      <td>0.333220</td>\n",
       "      <td>0.264218</td>\n",
       "    </tr>\n",
       "    <tr>\n",
       "      <th>766</th>\n",
       "      <td>0.529032</td>\n",
       "      <td>0.325790</td>\n",
       "      <td>0.000000</td>\n",
       "      <td>0.000000</td>\n",
       "      <td>0.439861</td>\n",
       "      <td>0.436228</td>\n",
       "      <td>0.596792</td>\n",
       "    </tr>\n",
       "    <tr>\n",
       "      <th>767</th>\n",
       "      <td>0.316129</td>\n",
       "      <td>0.487711</td>\n",
       "      <td>0.492063</td>\n",
       "      <td>0.000000</td>\n",
       "      <td>0.448733</td>\n",
       "      <td>0.406387</td>\n",
       "      <td>0.067390</td>\n",
       "    </tr>\n",
       "  </tbody>\n",
       "</table>\n",
       "<p>768 rows × 7 columns</p>\n",
       "</div>"
      ],
      "text/plain": [
       "      Glucose  BloodPressure  SkinThickness   Insulin       BMI  \\\n",
       "0    0.670968       0.134278       0.555556  0.000000  0.539927   \n",
       "1    0.264516       0.425905       0.460317  0.000000  0.331705   \n",
       "2    0.896774       0.393582       0.000000  0.000000  0.220652   \n",
       "3    0.683871       0.425905       0.365079  0.480750  0.379154   \n",
       "4    0.683871       0.016607       0.555556  0.583418  0.780455   \n",
       "..        ...            ...            ...       ...       ...   \n",
       "763  0.367742       0.574095       0.761905  0.596990  0.520490   \n",
       "764  0.503226       0.487711       0.428571  0.000000  0.625499   \n",
       "765  0.496774       0.517302       0.365079  0.509662  0.318752   \n",
       "766  0.529032       0.325790       0.000000  0.000000  0.439861   \n",
       "767  0.316129       0.487711       0.492063  0.000000  0.448733   \n",
       "\n",
       "     DiabetesPedigreeFunction       Age  \n",
       "0                    0.606798  0.642628  \n",
       "1                    0.437892  0.288508  \n",
       "2                    0.626977  0.671682  \n",
       "3                    0.221638  0.000000  \n",
       "4                    0.983670  0.334822  \n",
       "..                        ...       ...  \n",
       "763                  0.228529  0.813831  \n",
       "764                  0.428622  0.186169  \n",
       "765                  0.333220  0.264218  \n",
       "766                  0.436228  0.596792  \n",
       "767                  0.406387  0.067390  \n",
       "\n",
       "[768 rows x 7 columns]"
      ]
     },
     "execution_count": 70,
     "metadata": {},
     "output_type": "execute_result"
    }
   ],
   "source": [
    "x_normal_df = pd.DataFrame(array, columns=x_df.columns)\n",
    "x_normal_df"
   ]
  },
  {
   "cell_type": "markdown",
   "id": "50ca45e9",
   "metadata": {},
   "source": [
    "### Train Test Split"
   ]
  },
  {
   "cell_type": "code",
   "execution_count": 71,
   "id": "4cdd3a67",
   "metadata": {},
   "outputs": [],
   "source": [
    "x = x_normal_df.copy()\n",
    "y = df[\"Outcome\"]\n",
    "x_train,x_test,y_train,y_test = train_test_split(x,y,test_size=0.2,random_state=42,stratify=y)"
   ]
  },
  {
   "cell_type": "code",
   "execution_count": 73,
   "id": "19fd0274",
   "metadata": {},
   "outputs": [
    {
     "data": {
      "text/plain": [
       "(614, 7)"
      ]
     },
     "execution_count": 73,
     "metadata": {},
     "output_type": "execute_result"
    }
   ],
   "source": [
    "x_train.shape"
   ]
  },
  {
   "cell_type": "code",
   "execution_count": 74,
   "id": "16a65ffc",
   "metadata": {},
   "outputs": [
    {
     "data": {
      "text/plain": [
       "(154, 7)"
      ]
     },
     "execution_count": 74,
     "metadata": {},
     "output_type": "execute_result"
    }
   ],
   "source": [
    "x_test.shape"
   ]
  },
  {
   "cell_type": "code",
   "execution_count": 75,
   "id": "869ccbd2",
   "metadata": {},
   "outputs": [
    {
     "data": {
      "text/plain": [
       "(614,)"
      ]
     },
     "execution_count": 75,
     "metadata": {},
     "output_type": "execute_result"
    }
   ],
   "source": [
    "y_train.shape"
   ]
  },
  {
   "cell_type": "code",
   "execution_count": 76,
   "id": "f3bb91d6",
   "metadata": {},
   "outputs": [
    {
     "data": {
      "text/plain": [
       "(154,)"
      ]
     },
     "execution_count": 76,
     "metadata": {},
     "output_type": "execute_result"
    }
   ],
   "source": [
    "y_test.shape"
   ]
  },
  {
   "cell_type": "markdown",
   "id": "60a94c44",
   "metadata": {},
   "source": [
    "### Model Training"
   ]
  },
  {
   "cell_type": "code",
   "execution_count": 77,
   "id": "753bb648",
   "metadata": {},
   "outputs": [
    {
     "data": {
      "text/plain": [
       "KNeighborsClassifier()"
      ]
     },
     "execution_count": 77,
     "metadata": {},
     "output_type": "execute_result"
    }
   ],
   "source": [
    "knn_clf = KNeighborsClassifier()\n",
    "knn_clf.fit(x_train,y_train)"
   ]
  },
  {
   "cell_type": "markdown",
   "id": "aa98fd4d",
   "metadata": {},
   "source": [
    "### Evaluation"
   ]
  },
  {
   "cell_type": "code",
   "execution_count": 79,
   "id": "1e158fe7",
   "metadata": {},
   "outputs": [
    {
     "data": {
      "text/plain": [
       "array([0, 0, 0, 1, 0])"
      ]
     },
     "execution_count": 79,
     "metadata": {},
     "output_type": "execute_result"
    }
   ],
   "source": [
    "y_pred = knn_clf.predict(x_test)\n",
    "y_pred[25:30]"
   ]
  },
  {
   "cell_type": "code",
   "execution_count": 80,
   "id": "ca8f3598",
   "metadata": {},
   "outputs": [
    {
     "data": {
      "text/plain": [
       "62     0\n",
       "480    1\n",
       "629    0\n",
       "64     1\n",
       "3      0\n",
       "Name: Outcome, dtype: int64"
      ]
     },
     "execution_count": 80,
     "metadata": {},
     "output_type": "execute_result"
    }
   ],
   "source": [
    "y_test[25:30]"
   ]
  },
  {
   "cell_type": "code",
   "execution_count": 81,
   "id": "f1351bc3",
   "metadata": {},
   "outputs": [
    {
     "name": "stdout",
     "output_type": "stream",
     "text": [
      "Confision marix :\n",
      " [[84 16]\n",
      " [21 33]]\n",
      "********************************************************************************\n",
      "Accuracy score is 0.7597402597402597\n",
      "********************************************************************************\n",
      "Classification report :\n",
      "               precision    recall  f1-score   support\n",
      "\n",
      "           0       0.80      0.84      0.82       100\n",
      "           1       0.67      0.61      0.64        54\n",
      "\n",
      "    accuracy                           0.76       154\n",
      "   macro avg       0.74      0.73      0.73       154\n",
      "weighted avg       0.76      0.76      0.76       154\n",
      "\n"
     ]
    }
   ],
   "source": [
    "# Testing data Evalution\n",
    "cnf_matrix = confusion_matrix(y_test,y_pred)\n",
    "print(\"Confision marix :\\n\",cnf_matrix)\n",
    "print(\"*\"*80)\n",
    "accuracy = accuracy_score(y_test,y_pred)\n",
    "print(\"Accuracy score is\",accuracy)\n",
    "print(\"*\"*80)\n",
    "clf_report = classification_report(y_test,y_pred)\n",
    "print(\"Classification report :\\n\",clf_report)"
   ]
  },
  {
   "cell_type": "code",
   "execution_count": 82,
   "id": "0d93f2ad",
   "metadata": {},
   "outputs": [
    {
     "name": "stdout",
     "output_type": "stream",
     "text": [
      "Confision marix :\n",
      " [[355  45]\n",
      " [ 62 152]]\n",
      "********************************************************************************\n",
      "Accuracy score is 0.8257328990228013\n",
      "********************************************************************************\n",
      "Classification report :\n",
      "               precision    recall  f1-score   support\n",
      "\n",
      "           0       0.85      0.89      0.87       400\n",
      "           1       0.77      0.71      0.74       214\n",
      "\n",
      "    accuracy                           0.83       614\n",
      "   macro avg       0.81      0.80      0.80       614\n",
      "weighted avg       0.82      0.83      0.82       614\n",
      "\n"
     ]
    }
   ],
   "source": [
    "# Training data Evalutaion\n",
    "y_pred_train = knn_clf.predict(x_train)\n",
    "\n",
    "cnf_matrix = confusion_matrix(y_train,y_pred_train)\n",
    "print(\"Confision marix :\\n\",cnf_matrix)\n",
    "print(\"*\"*80)\n",
    "accuracy = accuracy_score(y_train,y_pred_train)\n",
    "print(\"Accuracy score is\",accuracy)\n",
    "print(\"*\"*80)\n",
    "clf_report = classification_report(y_train,y_pred_train)\n",
    "print(\"Classification report :\\n\",clf_report)"
   ]
  },
  {
   "cell_type": "markdown",
   "id": "d4b1e454",
   "metadata": {},
   "source": [
    "### Hyperparameter Tuning"
   ]
  },
  {
   "cell_type": "code",
   "execution_count": 98,
   "id": "7026b3fd",
   "metadata": {},
   "outputs": [
    {
     "data": {
      "text/plain": [
       "KNeighborsClassifier(n_neighbors=11, p=1)"
      ]
     },
     "execution_count": 98,
     "metadata": {},
     "output_type": "execute_result"
    }
   ],
   "source": [
    "knn_clf = KNeighborsClassifier()\n",
    "\n",
    "hyperparameters = {\"n_neighbors\":np.arange(3,30),\n",
    "                  \"p\" : [1,2]}\n",
    "\n",
    "gscv_knn_clf = GridSearchCV(knn_clf,hyperparameters,cv = 5)\n",
    "gscv_knn_clf.fit(x_train,y_train)\n",
    "gscv_knn_clf.best_estimator_"
   ]
  },
  {
   "cell_type": "code",
   "execution_count": 99,
   "id": "271fff0a",
   "metadata": {},
   "outputs": [
    {
     "name": "stdout",
     "output_type": "stream",
     "text": [
      "Confision marix :\n",
      " [[84 16]\n",
      " [21 33]]\n",
      "********************************************************************************\n",
      "Accuracy score is 0.7597402597402597\n",
      "********************************************************************************\n",
      "Classification report :\n",
      "               precision    recall  f1-score   support\n",
      "\n",
      "           0       0.80      0.84      0.82       100\n",
      "           1       0.67      0.61      0.64        54\n",
      "\n",
      "    accuracy                           0.76       154\n",
      "   macro avg       0.74      0.73      0.73       154\n",
      "weighted avg       0.76      0.76      0.76       154\n",
      "\n"
     ]
    }
   ],
   "source": [
    "# Testing data Evalutaion\n",
    "\n",
    "\n",
    "knn_clf = gscv_knn_clf.best_estimator_\n",
    "\n",
    "cnf_matrix = confusion_matrix(y_test,y_pred)\n",
    "print(\"Confision marix :\\n\",cnf_matrix)\n",
    "print(\"*\"*80)\n",
    "accuracy = accuracy_score(y_test,y_pred)\n",
    "print(\"Accuracy score is\",accuracy)\n",
    "print(\"*\"*80)\n",
    "clf_report = classification_report(y_test,y_pred)\n",
    "print(\"Classification report :\\n\",clf_report)"
   ]
  },
  {
   "cell_type": "code",
   "execution_count": 100,
   "id": "5563e364",
   "metadata": {},
   "outputs": [
    {
     "name": "stdout",
     "output_type": "stream",
     "text": [
      "Confision marix :\n",
      " [[354  46]\n",
      " [ 76 138]]\n",
      "********************************************************************************\n",
      "Accuracy score is 0.8013029315960912\n",
      "********************************************************************************\n",
      "Classification report :\n",
      "               precision    recall  f1-score   support\n",
      "\n",
      "           0       0.82      0.89      0.85       400\n",
      "           1       0.75      0.64      0.69       214\n",
      "\n",
      "    accuracy                           0.80       614\n",
      "   macro avg       0.79      0.76      0.77       614\n",
      "weighted avg       0.80      0.80      0.80       614\n",
      "\n"
     ]
    }
   ],
   "source": [
    "# Training data Evalutaion\n",
    "y_pred_train = knn_clf.predict(x_train)\n",
    "\n",
    "cnf_matrix = confusion_matrix(y_train,y_pred_train)\n",
    "print(\"Confision marix :\\n\",cnf_matrix)\n",
    "print(\"*\"*80)\n",
    "accuracy = accuracy_score(y_train,y_pred_train)\n",
    "print(\"Accuracy score is\",accuracy)\n",
    "print(\"*\"*80)\n",
    "clf_report = classification_report(y_train,y_pred_train)\n",
    "print(\"Classification report :\\n\",clf_report)"
   ]
  },
  {
   "cell_type": "code",
   "execution_count": null,
   "id": "39b7fd4a",
   "metadata": {},
   "outputs": [],
   "source": []
  }
 ],
 "metadata": {
  "kernelspec": {
   "display_name": "Python 3 (ipykernel)",
   "language": "python",
   "name": "python3"
  },
  "language_info": {
   "codemirror_mode": {
    "name": "ipython",
    "version": 3
   },
   "file_extension": ".py",
   "mimetype": "text/x-python",
   "name": "python",
   "nbconvert_exporter": "python",
   "pygments_lexer": "ipython3",
   "version": "3.9.7"
  }
 },
 "nbformat": 4,
 "nbformat_minor": 5
}
